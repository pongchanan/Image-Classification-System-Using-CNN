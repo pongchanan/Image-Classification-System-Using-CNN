{
	"cells": [
		{
			"cell_type": "code",
			"execution_count": null,
			"metadata": {},
			"outputs": [],
			"source": [
				"import numpy as np\n",
				"import pandas as pd\n",
				"import tensorflow as tf\n",
				"from tensorflow.keras.models import Sequential\n",
				"from tensorflow.keras.layers import Dense, Conv2D, Flatten, MaxPooling2D\n",
				"from tensorflow.keras.preprocessing.image import ImageDataGenerator\n"
			]
		}
	],
	"metadata": {
		"language_info": {
			"name": "python"
		}
	},
	"nbformat": 4,
	"nbformat_minor": 2
}
